{
 "cells": [
  {
   "cell_type": "code",
   "execution_count": null,
   "metadata": {},
   "outputs": [],
   "source": [
    "import anndata as ad\n",
    "import cv2\n",
    "import json\n",
    "import matplotlib.pyplot as plt\n",
    "import numpy as np\n",
    "import pandas as pd\n",
    "import os\n",
    "import requests\n",
    "import scanpy as sc\n",
    "import squidpy as sq\n",
    "from IPython.display import display\n",
    "from PIL import Image\n",
    "from scipy import sparse\n",
    "from urllib.parse import quote\n",
    "\n",
    "Image.MAX_IMAGE_PIXELS = 699408640"
   ]
  },
  {
   "cell_type": "code",
   "execution_count": null,
   "metadata": {},
   "outputs": [],
   "source": [
    "file = 'merfish_not_binned.h5ad'\n",
    "adata = ad.read_h5ad(file)\n",
    "adata"
   ]
  },
  {
   "cell_type": "code",
   "execution_count": null,
   "metadata": {},
   "outputs": [],
   "source": [
    "adata.obs[['sample', 'replicate']].value_counts(dropna=False)"
   ]
  },
  {
   "cell_type": "code",
   "execution_count": null,
   "metadata": {},
   "outputs": [],
   "source": [
    "map_replicate = adata.obs[['sample', 'replicate']].value_counts(dropna=False) \\\n",
    "    .to_frame() \\\n",
    "    .reset_index() \\\n",
    "    .set_index('sample') \\\n",
    "    .to_dict()['replicate']\n",
    "map_replicate['HTAPP-982-SMP-7629'] = 1\n",
    "final_replicate_map = {key: key + '_HE_' + str(value) for key, value in map_replicate.items()}\n",
    "final_replicate_map"
   ]
  },
  {
   "cell_type": "code",
   "execution_count": null,
   "metadata": {},
   "outputs": [],
   "source": [
    "adata.obs['hande_mapping'] = adata.obs['sample'].map(final_replicate_map)\n",
    "adata.obs['hande_mapping'].value_counts()"
   ]
  },
  {
   "cell_type": "code",
   "execution_count": null,
   "metadata": {},
   "outputs": [],
   "source": [
    "jpgs = [f for f in os.listdir('./h_and_e_jpgs/')]\n",
    "jpgs"
   ]
  },
  {
   "cell_type": "code",
   "execution_count": null,
   "metadata": {},
   "outputs": [],
   "source": [
    "adata.obs[['sample', 'hande_mapping']].value_counts()"
   ]
  },
  {
   "cell_type": "code",
   "execution_count": null,
   "metadata": {},
   "outputs": [],
   "source": [
    "adata.obs['hande_mapping'] = adata.obs['hande_mapping'].astype(str) + '_processed.jpg'"
   ]
  },
  {
   "cell_type": "code",
   "execution_count": null,
   "metadata": {},
   "outputs": [],
   "source": [
    "adata.obs['hande_mapping'].value_counts(dropna=False)"
   ]
  },
  {
   "cell_type": "code",
   "execution_count": null,
   "metadata": {},
   "outputs": [],
   "source": [
    "for sample in adata.obs['hande_mapping'].unique():\n",
    "    print(sample)\n",
    "    adata_subset = adata[adata.obs['hande_mapping'] == sample].copy()\n",
    "    adata_subset.obsm['spatial'] = adata_subset.obs[['x', 'y']].to_numpy()\n",
    "    if sample in jpgs:\n",
    "        print(f\"{sample} found in jpgs list\")\n",
    "        img_array = np.asarray(Image.open(f'h_and_e_jpgs/{sample}'))\n",
    "        adata_subset.uns['image'] = img_array\n",
    "        adata_subset.write(filename=sample.replace('_processed.jpg', '.h5ad'), compression='gzip')"
   ]
  },
  {
   "cell_type": "code",
   "execution_count": null,
   "metadata": {},
   "outputs": [],
   "source": [
    "sc.set_figure_params(figsize=(15, 40))"
   ]
  },
  {
   "cell_type": "code",
   "execution_count": null,
   "metadata": {},
   "outputs": [],
   "source": [
    "merfish_spatial = [f for f in os.listdir() if '_HE_' in f]"
   ]
  },
  {
   "cell_type": "code",
   "execution_count": null,
   "metadata": {},
   "outputs": [],
   "source": [
    "# Create gene lists based off of Cords et al. that were found in MERFISH\n",
    "merfish_markers = {\n",
    "    'mCAF': ['MMP11','CSTB'],\n",
    "    'iCAF': ['APOC1','CD34','CLU','CTSL','EGFR'],\n",
    "    'vCAF': ['CD9','FOXC1','ACTA2'],\n",
    "    'ifnCAF': ['BLVRA'],\n",
    "    'apCAF': ['HLA-DRA','HLA-DRB1','CD74'],\n",
    "    'rCAF': ['CALCRL','EIF3E'],\n",
    "    'dCAF': ['AKT1','MKI67','ANLN','AURKA','BIRC5','CCNB1','CDC20','CENPF','CEP55','CCNB1']\n",
    "}"
   ]
  },
  {
   "cell_type": "code",
   "execution_count": null,
   "metadata": {},
   "outputs": [],
   "source": [
    "# Generate gene list scores using score_genes()\n",
    "for file in merfish_spatial:\n",
    "    adata = ad.read_h5ad(file)\n",
    "    for caf, markers in merfish_markers.items():\n",
    "        sc.tl.score_genes(adata, markers)\n",
    "        adata.obs.rename(columns={'score': caf + '_score'}, inplace=True)\n",
    "    adata.write(filename=file, compression='gzip')"
   ]
  },
  {
   "cell_type": "code",
   "execution_count": null,
   "metadata": {},
   "outputs": [],
   "source": [
    "for file in merfish_spatial:\n",
    "    adata = ad.read_h5ad(file)\n",
    "    print(file)\n",
    "    caf_cols = [col for col in adata.obs.columns if 'CAF' in col]\n",
    "    for col in caf_cols:\n",
    "        sc.pl.spatial(\n",
    "            adata[adata.obs['OT'] == 'Fibroblast'],\n",
    "            color=col,\n",
    "            img=adata.uns['image'],\n",
    "            scale_factor=1,\n",
    "            spot_size=20,\n",
    "            alpha_img=0.5\n",
    "        )"
   ]
  },
  {
   "cell_type": "code",
   "execution_count": null,
   "metadata": {},
   "outputs": [],
   "source": [
    "# for file in merfish_spatial:\n",
    "#     adata = ad.read_h5ad(file)\n",
    "#     sc.pl.spatial(\n",
    "#         adata[adata.obs['OT'] == 'Fibroblast'],\n",
    "#         color='OT',\n",
    "#         img=adata.uns['image'],\n",
    "#         scale_factor=1,\n",
    "#         spot_size=20,\n",
    "#     )"
   ]
  }
 ],
 "metadata": {
  "kernelspec": {
   "display_name": "htan",
   "language": "python",
   "name": "python3"
  },
  "language_info": {
   "codemirror_mode": {
    "name": "ipython",
    "version": 3
   },
   "file_extension": ".py",
   "mimetype": "text/x-python",
   "name": "python",
   "nbconvert_exporter": "python",
   "pygments_lexer": "ipython3",
   "version": "3.11.10"
  }
 },
 "nbformat": 4,
 "nbformat_minor": 2
}
